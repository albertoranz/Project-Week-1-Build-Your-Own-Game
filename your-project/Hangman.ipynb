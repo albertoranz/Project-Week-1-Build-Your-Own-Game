{
 "cells": [
  {
   "cell_type": "markdown",
   "metadata": {},
   "source": [
    "## Hangman"
   ]
  },
  {
   "cell_type": "markdown",
   "metadata": {},
   "source": [
    "### Instructions\n",
    "The goal is to guess the word to save the hangman from death. Enter one letter at a time to see if it’s in the word. If you have guessed correctly, the letter will appear in the blank spaces. If the letter is not in the word, you loose a life. The initial number of lifes is 7. If the word is not guessed before spending all 7 lifes, the game ends and you loose. If you guess the whole word, you win!!"
   ]
  },
  {
   "cell_type": "code",
   "execution_count": null,
   "metadata": {},
   "outputs": [],
   "source": [
    "# Pseudocode\n",
    "\n",
    "\n",
    "# First, the user will be shown a number of blank spaces ( _ ),\n",
    "# that represent the number of letters the word to guess has. The word will be randomly selected from a tuple, and displayed\n",
    "# to the user as blank spaces. \n",
    "\n",
    "# For this, the \"random\" library will be imported, and with random.choice(tuple), the word will be selected.\n",
    "# Then, a user defined function will be created that converts the word into a set of \"_\" separated with spaces. (sep = \" \")?\n",
    "\n",
    "# The user then will be asked to introduce a letter (input function). If the letter belongs to the word (if loop), \n",
    "# the program will return the letter in the position it belongs together with the rest of the rest of blank spaces.\n",
    "# If the letter does not belong to the word, then the program will return a message saying: \n",
    "# \"you lost one life, x lives remaining\"\n",
    "# and the program will substract one life from the life counter, which starts with 7 lives.\n",
    " \n",
    "# If the life counter reaches 0, the game will end, the program will stop, and return the message: \"Game Over\".\n",
    "\n",
    "# If the user continues to guess letters correctly until he has the whole word, he will receive points equal to the \n",
    "# number of remaining lives(points list). Then, a new different word will appear and the life counter will restart. "
   ]
  },
  {
   "cell_type": "code",
   "execution_count": 16,
   "metadata": {},
   "outputs": [],
   "source": [
    "def check_letter(word, guesses):\n",
    "    failed = 0    \n",
    "\n",
    "    for letter in word:\n",
    "            # compares the letter with the letter in guesses\n",
    "        if letter in guesses:\n",
    "            print(letter, end = \" \")\n",
    "        else:\n",
    "            print(\"_\", end = \" \")\n",
    "            failed += 1\n",
    "\n",
    "    if failed == 0:\n",
    "        # user will win the game if fail is 0\n",
    "        print(\"You Win. The word is: \", word)"
   ]
  },
  {
   "cell_type": "code",
   "execution_count": 17,
   "metadata": {},
   "outputs": [],
   "source": [
    "def vidas(x):\n",
    "    words = (\"music\", \"destination\", \"electricity\", \"television\", \"laptop\", \"berlin\", \"amazon\", \"guitar\", \"love\", \"seagull\",\n",
    "         \"karate\", \"party\", \"hangman\", \"python\", \"teacher\", \"uncle\", \"car\", \"science\", \"screen\", \"chair\")\n",
    "    word = random.choice(words) # chooses a word randomly from the tuple \"words\"\n",
    "    guesses = str()  # This is a string to which the letters entered by user will be added.\n",
    "    \n",
    "    while x > 0:\n",
    "\n",
    "\n",
    "        check_letter(word,guesses)\n",
    "\n",
    "        guess = input(\"Guess a letter: \")\n",
    "\n",
    "        # letters are stored in guesses\n",
    "        guesses += guess\n",
    "\n",
    "        # check input with the letter in word\n",
    "        if guess not in word:\n",
    "            x -= 1\n",
    "            # if the letter is wrong then the following is printed\n",
    "            print(\"The letter does not belong in the word\")\n",
    "            print(\"You have\", + x, 'lives left')\n",
    "            if x == 0:\n",
    "                print(\"GAME OVER\")"
   ]
  },
  {
   "cell_type": "code",
   "execution_count": 18,
   "metadata": {},
   "outputs": [
    {
     "name": "stdout",
     "output_type": "stream",
     "text": [
      "_ _ _ _ _ _ "
     ]
    },
    {
     "ename": "KeyboardInterrupt",
     "evalue": "Interrupted by user",
     "output_type": "error",
     "traceback": [
      "\u001b[1;31m---------------------------------------------------------------------------\u001b[0m",
      "\u001b[1;31mKeyboardInterrupt\u001b[0m                         Traceback (most recent call last)",
      "\u001b[1;32m<ipython-input-18-bfcaebb70349>\u001b[0m in \u001b[0;36m<module>\u001b[1;34m\u001b[0m\n\u001b[1;32m----> 1\u001b[1;33m \u001b[0mvidas\u001b[0m\u001b[1;33m(\u001b[0m\u001b[1;36m7\u001b[0m\u001b[1;33m)\u001b[0m\u001b[1;33m\u001b[0m\u001b[1;33m\u001b[0m\u001b[0m\n\u001b[0m",
      "\u001b[1;32m<ipython-input-17-52aec20bcba2>\u001b[0m in \u001b[0;36mvidas\u001b[1;34m(x)\u001b[0m\n\u001b[0;32m     10\u001b[0m         \u001b[0mcheck_letter\u001b[0m\u001b[1;33m(\u001b[0m\u001b[0mword\u001b[0m\u001b[1;33m,\u001b[0m\u001b[0mguesses\u001b[0m\u001b[1;33m)\u001b[0m\u001b[1;33m\u001b[0m\u001b[1;33m\u001b[0m\u001b[0m\n\u001b[0;32m     11\u001b[0m \u001b[1;33m\u001b[0m\u001b[0m\n\u001b[1;32m---> 12\u001b[1;33m         \u001b[0mguess\u001b[0m \u001b[1;33m=\u001b[0m \u001b[0minput\u001b[0m\u001b[1;33m(\u001b[0m\u001b[1;34m\"Guess a letter: \"\u001b[0m\u001b[1;33m)\u001b[0m\u001b[1;33m\u001b[0m\u001b[1;33m\u001b[0m\u001b[0m\n\u001b[0m\u001b[0;32m     13\u001b[0m \u001b[1;33m\u001b[0m\u001b[0m\n\u001b[0;32m     14\u001b[0m         \u001b[1;31m# letters are stored in guesses\u001b[0m\u001b[1;33m\u001b[0m\u001b[1;33m\u001b[0m\u001b[1;33m\u001b[0m\u001b[0m\n",
      "\u001b[1;32m~\\anaconda3\\lib\\site-packages\\ipykernel\\kernelbase.py\u001b[0m in \u001b[0;36mraw_input\u001b[1;34m(self, prompt)\u001b[0m\n\u001b[0;32m    858\u001b[0m                 \u001b[1;34m\"raw_input was called, but this frontend does not support input requests.\"\u001b[0m\u001b[1;33m\u001b[0m\u001b[1;33m\u001b[0m\u001b[0m\n\u001b[0;32m    859\u001b[0m             )\n\u001b[1;32m--> 860\u001b[1;33m         return self._input_request(str(prompt),\n\u001b[0m\u001b[0;32m    861\u001b[0m             \u001b[0mself\u001b[0m\u001b[1;33m.\u001b[0m\u001b[0m_parent_ident\u001b[0m\u001b[1;33m,\u001b[0m\u001b[1;33m\u001b[0m\u001b[1;33m\u001b[0m\u001b[0m\n\u001b[0;32m    862\u001b[0m             \u001b[0mself\u001b[0m\u001b[1;33m.\u001b[0m\u001b[0m_parent_header\u001b[0m\u001b[1;33m,\u001b[0m\u001b[1;33m\u001b[0m\u001b[1;33m\u001b[0m\u001b[0m\n",
      "\u001b[1;32m~\\anaconda3\\lib\\site-packages\\ipykernel\\kernelbase.py\u001b[0m in \u001b[0;36m_input_request\u001b[1;34m(self, prompt, ident, parent, password)\u001b[0m\n\u001b[0;32m    902\u001b[0m             \u001b[1;32mexcept\u001b[0m \u001b[0mKeyboardInterrupt\u001b[0m\u001b[1;33m:\u001b[0m\u001b[1;33m\u001b[0m\u001b[1;33m\u001b[0m\u001b[0m\n\u001b[0;32m    903\u001b[0m                 \u001b[1;31m# re-raise KeyboardInterrupt, to truncate traceback\u001b[0m\u001b[1;33m\u001b[0m\u001b[1;33m\u001b[0m\u001b[1;33m\u001b[0m\u001b[0m\n\u001b[1;32m--> 904\u001b[1;33m                 \u001b[1;32mraise\u001b[0m \u001b[0mKeyboardInterrupt\u001b[0m\u001b[1;33m(\u001b[0m\u001b[1;34m\"Interrupted by user\"\u001b[0m\u001b[1;33m)\u001b[0m \u001b[1;32mfrom\u001b[0m \u001b[1;32mNone\u001b[0m\u001b[1;33m\u001b[0m\u001b[1;33m\u001b[0m\u001b[0m\n\u001b[0m\u001b[0;32m    905\u001b[0m             \u001b[1;32mexcept\u001b[0m \u001b[0mException\u001b[0m \u001b[1;32mas\u001b[0m \u001b[0me\u001b[0m\u001b[1;33m:\u001b[0m\u001b[1;33m\u001b[0m\u001b[1;33m\u001b[0m\u001b[0m\n\u001b[0;32m    906\u001b[0m                 \u001b[0mself\u001b[0m\u001b[1;33m.\u001b[0m\u001b[0mlog\u001b[0m\u001b[1;33m.\u001b[0m\u001b[0mwarning\u001b[0m\u001b[1;33m(\u001b[0m\u001b[1;34m\"Invalid Message:\"\u001b[0m\u001b[1;33m,\u001b[0m \u001b[0mexc_info\u001b[0m\u001b[1;33m=\u001b[0m\u001b[1;32mTrue\u001b[0m\u001b[1;33m)\u001b[0m\u001b[1;33m\u001b[0m\u001b[1;33m\u001b[0m\u001b[0m\n",
      "\u001b[1;31mKeyboardInterrupt\u001b[0m: Interrupted by user"
     ]
    }
   ],
   "source": [
    "vidas(7)"
   ]
  }
 ],
 "metadata": {
  "kernelspec": {
   "display_name": "Python 3",
   "language": "python",
   "name": "python3"
  },
  "language_info": {
   "codemirror_mode": {
    "name": "ipython",
    "version": 3
   },
   "file_extension": ".py",
   "mimetype": "text/x-python",
   "name": "python",
   "nbconvert_exporter": "python",
   "pygments_lexer": "ipython3",
   "version": "3.8.5"
  }
 },
 "nbformat": 4,
 "nbformat_minor": 4
}
