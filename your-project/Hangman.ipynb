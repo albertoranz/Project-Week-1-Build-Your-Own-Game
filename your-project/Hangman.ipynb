{
 "cells": [
  {
   "cell_type": "markdown",
   "metadata": {},
   "source": [
    "## Hangman"
   ]
  },
  {
   "cell_type": "markdown",
   "metadata": {},
   "source": [
    "### INSTRUCTIONS\n",
    "Your goal is to guess the word to save the player from the hungry monster. Fill in the blanks by guessing one letter at a time to see if it’s in the word. Click on the letter to guess it, or type it with your keyboard. If you have guessed correctly, the letter will appear in the blank spaces. Try to guess the word or phrase when you have enough correct letters on the board. \n",
    "Select a letter not in the word, a balloon will pop! Watch out - when all the balloons are popped, you’ll fall to the ground and get gobbled up!\n",
    "\n",
    "Look at the blank spaces and try to guess the word, remember to keep the theme in mind – it may help you solve the puzzle! \n",
    "Each time you solve a word, the balloons you save are added to your score. Up for a challenge? Increase the difficulty and you'll have fewer balloons to hang on to!\n",
    "\n",
    "### HANGMAN TIPS & STRATEGIES\n",
    "Use your vowels. Looking at vowels is a good way to start. Since there are only 5, you can fill in some blanks pretty quickly. They can even help you guess the answer straight away. For example, if you try the letter A and the word looks like this ‘_A_A_A’, you might be able to guess straight away that the answer is BANANA just from one letter.\n",
    "Etaoin shrdlu. \"Etaoin shrdlu\" is two words listing the most commonly used letters in the English language, in order of frequency. \"E\" is the most commonly used letter, \"t\" is second-most common, etc. After trying your vowels, try out a few letters from this list to see if they appear in the word!\n",
    "Break down phrases. When trying to guess a phrase, break it up and look at each word rather than focus on the letters. If you can guess just one word then it may lead you to the other words in the saying. You can also use the tip at the top of the window for extra help.\n",
    "Don’t forget your Js and Zs. The letters J and Z always trip people up. They’re both fairly rare and it’s not always obvious when you need one to complete a word or phrase. Don’t guess a Z or a J at the very beginning, but keep them in mind as you play.\n",
    "It can be helpful to learn the most difficult and most common words used in Hangman. Get some helpful tips on how to further build your Hangman strategy."
   ]
  },
  {
   "cell_type": "code",
   "execution_count": null,
   "metadata": {},
   "outputs": [],
   "source": []
  }
 ],
 "metadata": {
  "kernelspec": {
   "display_name": "Python 3",
   "language": "python",
   "name": "python3"
  },
  "language_info": {
   "codemirror_mode": {
    "name": "ipython",
    "version": 3
   },
   "file_extension": ".py",
   "mimetype": "text/x-python",
   "name": "python",
   "nbconvert_exporter": "python",
   "pygments_lexer": "ipython3",
   "version": "3.8.5"
  }
 },
 "nbformat": 4,
 "nbformat_minor": 4
}
