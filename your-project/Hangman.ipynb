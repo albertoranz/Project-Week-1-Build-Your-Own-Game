{
 "cells": [
  {
   "cell_type": "markdown",
   "metadata": {},
   "source": [
    "## Hangman"
   ]
  },
  {
   "cell_type": "markdown",
   "metadata": {},
   "source": [
    "### Instructions\n",
    "The goal is to guess the word to save the hangman from death. Enter one letter at a time to see if it’s in the word. If you have guessed correctly, the letter will appear in the blank spaces. If the letter is not in the word, you loose a life. The initial number of lifes is 7. If the word is not guessed before spending all 7 lifes, the game ends and you loose. If you guess the whole word, you win!!"
   ]
  },
  {
   "cell_type": "code",
   "execution_count": null,
   "metadata": {},
   "outputs": [],
   "source": [
    "# Pseudocode\n",
    "\n",
    "\n",
    "# First, the user will be shown a number of blank spaces (\"_\" separated with spaces in order for them to be distinguishable),\n",
    "# that represent the number of letters the word to guess has. The word will be randomly selected from a tuple, and displayed\n",
    "# to the user as blank spaces. \n",
    "\n",
    "# For this, the \"random\" library will be imported, and with random.choice(tuple), the word will be selected.\n",
    "# Then, a user defined function will be created that converts the word into a set of \"_\" separated with spaces. (sep = \" \")?\n",
    "\n",
    "# The user then will be asked to introduce a letter (input function). If the letter belongs to the word (if loop), \n",
    "# the program will return the letter in the position it belongs together with the rest of the rest of blank spaces.\n",
    "# If the letter does not belong to the word, then the program will return a message saying: \n",
    "# \"you lost one life, x lives remaining\"\n",
    "# and the program will substract one life from the life counter, which starts with 7 lives.\n",
    " \n",
    "# If the life counter reaches 0, the game will end, the program will stop, and return the message: \"Game Over\".\n",
    "\n",
    "# If the user continues to guess letters correctly until he has the whole word, he will receive points equal to the \n",
    "# number of remaining lives(points list). Then, a new different word will appear and the life counter will restart. "
   ]
  },
  {
   "cell_type": "code",
   "execution_count": 1,
   "metadata": {},
   "outputs": [
    {
     "name": "stdout",
     "output_type": "stream",
     "text": [
      "_\n",
      "_\n",
      "_\n",
      "_\n",
      "Guess a letter: o\n",
      "_\n",
      "o\n",
      "_\n",
      "_\n",
      "Guess a letter: l\n",
      "l\n",
      "o\n",
      "_\n",
      "_\n",
      "Guess a letter: k\n",
      "Wrong\n",
      "You have 6 more guesses\n",
      "l\n",
      "o\n",
      "_\n",
      "_\n",
      "Guess a letter: v\n",
      "l\n",
      "o\n",
      "v\n",
      "_\n",
      "Guess a letter: e\n",
      "l\n",
      "o\n",
      "v\n",
      "e\n",
      "You Win. The word is:  love\n"
     ]
    }
   ],
   "source": [
    "import random\n",
    "\n",
    "\n",
    "def game():\n",
    "    words = (\"music\", \"destination\", \"electricity\", \"television\", \"laptop\", \"berlin\", \"amazon\", \"guitar\", \"love\", \"seagull\",\n",
    "         \"karate\", \"party\", \"hangman\", \"python\", \"teacher\", \"uncle\", \"car\", \"science\", \"screen\", \"chair\")\n",
    "\n",
    "    word = random.choice(words)\n",
    "    guesses = ''\n",
    "    lives = 7\n",
    "    while lives > 0:\n",
    "        failed = 0    \n",
    "        for letter in word:\n",
    "            # comparing that letter with the letter in guesses\n",
    "            if letter in guesses:\n",
    "                print(letter)\n",
    "            else:\n",
    "                print(\"_\")\n",
    "                failed += 1\n",
    "        if failed == 0:\n",
    "            # user will win the game if failure is 0 and 'You Win' will be given as output\n",
    "            print(\"You Win. The word is: \", word)\n",
    "            break\n",
    "\n",
    "        guess = input(\"Guess a letter: \")\n",
    "\n",
    "        # every input letter will be stored in guesses\n",
    "        guesses += guess\n",
    "\n",
    "        # check input with the letter in word\n",
    "        if guess not in word:\n",
    "            lives -= 1\n",
    "            # if the letter doesn’t match the word then “Wrong” will be given as output\n",
    "            print(\"Wrong\")\n",
    "            # this will print the number of lives left for the user\n",
    "            print(\"You have\", + lives, 'more lives')\n",
    "            if lives == 0:\n",
    "                print(\"You Loose\")\n",
    "                \n",
    "game()"
   ]
  }
 ],
 "metadata": {
  "kernelspec": {
   "display_name": "Python 3",
   "language": "python",
   "name": "python3"
  },
  "language_info": {
   "codemirror_mode": {
    "name": "ipython",
    "version": 3
   },
   "file_extension": ".py",
   "mimetype": "text/x-python",
   "name": "python",
   "nbconvert_exporter": "python",
   "pygments_lexer": "ipython3",
   "version": "3.8.5"
  }
 },
 "nbformat": 4,
 "nbformat_minor": 4
}
